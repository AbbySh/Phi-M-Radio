{
 "cells": [
  {
   "cell_type": "code",
   "execution_count": null,
   "metadata": {},
   "outputs": [],
   "source": [
    "import matplotlib.pyplot as plt\n",
    "import numpy as np\n",
    "import lightkurve as lk\n",
    "from astropy.timeseries import LombScargle\n",
    "\n",
    "from phi_m_alg import phi_m_radio as pmr\n",
    "\n",
    "%matplotlib widget"
   ]
  },
  {
   "cell_type": "markdown",
   "metadata": {},
   "source": [
    "# getting kepler ID data: kic7917485"
   ]
  },
  {
   "cell_type": "code",
   "execution_count": null,
   "metadata": {},
   "outputs": [],
   "source": [
    "target_kepler_id = 'kic7917485'\n",
    "instrument = 'kepler'\n",
    "cadence = 'long'\n",
    "author='kepler'\n",
    "\n",
    "lc_files = lk.search_lightcurve(target_kepler_id, cadence=cadence,author=author).download_all()\n",
    "        \n",
    "time, flux, flerr = np.array([]), np.array([]), np.array([])\n",
    "\n",
    "for q,lc in enumerate(lc_files):\n",
    "    lc = lc.remove_outliers(sigma=4)\n",
    "    this_time = np.ma.array(lc['time'].value)\n",
    "\n",
    "    ### to get rid of the masks ###\n",
    "    this_flux = lc['pdcsap_flux'].value\n",
    "    this_flerr = lc['pdcsap_flux_err'].value\n",
    "\n",
    "    good = np.isfinite(this_time) & np.isfinite(this_flux) & np.isfinite(this_flerr)\n",
    "    \n",
    "    median_flux = np.nanmedian(this_flux)\n",
    "    this_flux = this_flux[good] / median_flux\n",
    "    this_flerr = this_flerr[good] / median_flux\n",
    "    this_time = this_time[good]\n",
    "    \n",
    "    time = np.concatenate((time,this_time))\n",
    "    flux = np.concatenate((flux,this_flux))\n",
    "    flerr = np.concatenate((flerr,this_flerr))\n",
    "\n",
    "flux=flux-1.\n",
    "\n",
    "i = np.argsort(time)\n",
    "\n",
    "ts, ys, flerrs = time[i],flux[i],flerr[i]"
   ]
  },
  {
   "cell_type": "code",
   "execution_count": null,
   "metadata": {},
   "outputs": [],
   "source": [
    "# for finding the strongest mode\n",
    "mode_f = pmr.tune(ts,ys)"
   ]
  },
  {
   "cell_type": "code",
   "execution_count": null,
   "metadata": {},
   "outputs": [],
   "source": [
    "### running phi-m radio method ###\n",
    "qs = pmr.demodulate(ts,ys,mode_f)\n",
    "fs, ps = pmr.listen(ts,qs,mode_f)"
   ]
  },
  {
   "cell_type": "code",
   "execution_count": null,
   "metadata": {},
   "outputs": [],
   "source": [
    "plt.figure()\n",
    "plt.plot(1/fs,ps,color='black')\n",
    "plt.loglog()\n",
    "plt.axvline(840)"
   ]
  },
  {
   "cell_type": "code",
   "execution_count": null,
   "metadata": {},
   "outputs": [],
   "source": []
  }
 ],
 "metadata": {
  "kernelspec": {
   "display_name": "Python 3",
   "language": "python",
   "name": "python3"
  },
  "language_info": {
   "codemirror_mode": {
    "name": "ipython",
    "version": 3
   },
   "file_extension": ".py",
   "mimetype": "text/x-python",
   "name": "python",
   "nbconvert_exporter": "python",
   "pygments_lexer": "ipython3",
   "version": "3.10.5"
  }
 },
 "nbformat": 4,
 "nbformat_minor": 2
}
