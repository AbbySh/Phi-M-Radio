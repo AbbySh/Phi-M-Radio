{
 "cells": [
  {
   "cell_type": "code",
   "execution_count": null,
   "metadata": {},
   "outputs": [],
   "source": [
    "import matplotlib.pyplot as plt\n",
    "import numpy as np\n",
    "import lightkurve as lk\n",
    "from astropy.timeseries import LombScargle\n",
    "\n",
    "from phi_m_alg import phi_m_radio as pmr\n",
    "\n",
    "%matplotlib widget"
   ]
  },
  {
   "cell_type": "code",
   "execution_count": null,
   "metadata": {},
   "outputs": [],
   "source": [
    "target_kepler_id = 'kic7917485'\n",
    "instrument = 'kepler'\n",
    "cadence = 'long'\n",
    "author='kepler'\n",
    "\n",
    "target = 'simulated'\n",
    "amp1 = .001\n",
    "amp2 = .01\n",
    "orbital_freq = 1./(20*np.pi) #inverse days\n",
    "phase_var = 0\n",
    "mode1 = 15.3830026 # inverse days\n",
    "\n",
    "lc_files = lk.search_lightcurve(target_kepler_id, cadence=cadence,author=author).download_all()\n",
    "        \n",
    "time, flux, flerr = np.array([]), np.array([]), np.array([])\n",
    "\n",
    "for q,lc in enumerate(lc_files):\n",
    "    lc = lc.remove_outliers(sigma=4)\n",
    "    this_time = np.ma.array(lc['time'].value)\n",
    "\n",
    "    ### to get rid of the masks ###\n",
    "    this_flux = lc['pdcsap_flux'].value\n",
    "    this_flerr = lc['pdcsap_flux_err'].value\n",
    "\n",
    "    good = np.isfinite(this_time) & np.isfinite(this_flux) & np.isfinite(this_flerr)\n",
    "    \n",
    "    median_flux = np.nanmedian(this_flux)\n",
    "    this_flux = this_flux[good] / median_flux\n",
    "    this_flerr = this_flerr[good] / median_flux\n",
    "    this_time = this_time[good]\n",
    "    \n",
    "    time = np.concatenate((time,this_time))\n",
    "    flux = np.concatenate((flux,this_flux))\n",
    "    flerr = np.concatenate((flerr,this_flerr))\n",
    "\n",
    "flux=flux-1.\n",
    "\n",
    "i = np.argsort(time)\n",
    "\n",
    "ts, ys, flerrs = time[i],flux[i],flerr[i]"
   ]
  },
  {
   "cell_type": "code",
   "execution_count": null,
   "metadata": {},
   "outputs": [],
   "source": [
    "### fake data ###\n",
    "\n",
    "def make_flux(time, mode, orbital_freq, amp1, amp2, phi, flerr = None, additional_modes = None, additional_amps = None, additional_phis = None, gaps = None):\n",
    "    \"\"\"\n",
    "    - gaps must be a list of slices to remove like: gaps = [(slice(2,5)),(slice(9,10))]\n",
    "    \"\"\"\n",
    "\n",
    "    flux = amp1 * np.sin(2*np.pi * mode * (time - amp2 * np.sin(2 * np.pi * orbital_freq * time)) + phi)\n",
    "    if flerr is not None:\n",
    "        flux += np.ma.array(flerr) * np.random.normal(size=len(flerr))\n",
    "\n",
    "    if additional_modes is not None:\n",
    "        assert len(additional_modes) == len(additional_amps) == len(additional_phis) # must be equal lengths\n",
    "        for freq_add,amp_add,phi_add in zip(additional_modes,additional_amps,additional_phis):\n",
    "            flux += amp_add * np.sin(2*np.pi * freq_add * (time - amp2 * np.sin(2 * np.pi * orbital_freq * time)) + phi_add)\n",
    "\n",
    "    if gaps is not None:\n",
    "        flux = np.delete(flux,gaps)\n",
    "\n",
    "    return flux-1"
   ]
  },
  {
   "cell_type": "code",
   "execution_count": null,
   "metadata": {},
   "outputs": [],
   "source": [
    "flux_1mode = make_flux(ts, mode1, orbital_freq, amp1, amp2, phase_var, flerr = flerrs)"
   ]
  },
  {
   "cell_type": "code",
   "execution_count": null,
   "metadata": {},
   "outputs": [],
   "source": [
    "qs = pmr.demodulate(ts,flux_1mode,mode1)"
   ]
  },
  {
   "cell_type": "code",
   "execution_count": null,
   "metadata": {},
   "outputs": [],
   "source": [
    "fs, ps = pmr.listen(ts,qs,mode1)"
   ]
  },
  {
   "cell_type": "code",
   "execution_count": null,
   "metadata": {},
   "outputs": [],
   "source": [
    "plt.figure()\n",
    "plt.plot(fs,ps)\n",
    "plt.axvline(orbital_freq,zorder=-10,c='pink')"
   ]
  }
 ],
 "metadata": {
  "kernelspec": {
   "display_name": "Python 3",
   "language": "python",
   "name": "python3"
  },
  "language_info": {
   "codemirror_mode": {
    "name": "ipython",
    "version": 3
   },
   "file_extension": ".py",
   "mimetype": "text/x-python",
   "name": "python",
   "nbconvert_exporter": "python",
   "pygments_lexer": "ipython3",
   "version": "3.10.5"
  }
 },
 "nbformat": 4,
 "nbformat_minor": 2
}
