{
 "cells": [
  {
   "cell_type": "code",
   "execution_count": null,
   "metadata": {
    "collapsed": true
   },
   "outputs": [],
   "source": [
    "!pip install -r requirements.txt | grep -v 'already satisfied'\n",
    "%load_ext autoreload\n",
    "%autoreload 2"
   ]
  },
  {
   "cell_type": "markdown",
   "metadata": {},
   "source": [
    "The following code is used to run the phase demodulation algorithm, as well as create plots. Explanation of plots below."
   ]
  },
  {
   "cell_type": "code",
   "execution_count": null,
   "metadata": {},
   "outputs": [],
   "source": [
    "import alg.StellarRadio_alg\n",
    "stellar_init = alg.StellarRadio_alg.StellarRadioAlg()\n",
    "time,flux,quarter,simmf = stellar_init.run_all_steps()"
   ]
  },
  {
   "cell_type": "code",
   "execution_count": null,
   "metadata": {},
   "outputs": [],
   "source": [
    "import alg.StellarRadio_plotting\n",
    "plot_init = alg.StellarRadio_plotting.StellarRadioAlg_Plotting()\n",
    "plot_init.do_plots()"
   ]
  },
  {
   "cell_type": "markdown",
   "metadata": {},
   "source": [
    "Plot 1: Light curve of KIC 6780873 (flux v time) <br> <br>\n",
    "Plot 2: Folded light curve of KIC 6780873  <br> <br>\n",
    "Plot 3: LombScargle periodogram of flux, time. We want the tallest peak within 0 to 24 cycles/day (Nyquist frequency). The green line's location corresponds to the tallest peak.  <br> <br>\n",
    "Plot 4: LombScargle periodogram of gaussian-filtered, imaginary component of mixer (carrier signal) * flux, time. KIC 6780873\n",
    "    has a companion with a period of ~ 9.16 days. In this plot, we see a clear peak at 9.16 days, confirming the code's success."
   ]
  },
  {
   "cell_type": "markdown",
   "metadata": {},
   "source": [
    "The following code is used for testing (testing via injection):"
   ]
  },
  {
   "cell_type": "code",
   "execution_count": null,
   "metadata": {},
   "outputs": [],
   "source": [
    "import numpy as np\n",
    "\n",
    "# choose parameters for injected frequency\n",
    "amp_fake = .0015 #flux units\n",
    "freq_fake = 70 + np.e/2 #inverse days\n",
    "phase_fake = 2 #0 to 2pi #radians\n",
    "planet_period_fake = 17.56 #days\n",
    "planet_amp_fake = 1e-3 #days -> this is about one second\n",
    "planet_phase_fake = 1 #radians\n",
    "\n",
    "print(amp_fake,freq_fake,phase_fake)"
   ]
  },
  {
   "cell_type": "code",
   "execution_count": null,
   "metadata": {},
   "outputs": [],
   "source": [
    "distorted_time = time + planet_amp_fake * np.cos(2 * np.pi *time / planet_period_fake + planet_phase_fake) \n",
    "flux_fake = flux + amp_fake * np.cos(2*np.pi *freq_fake * distorted_time + phase_fake)"
   ]
  },
  {
   "cell_type": "code",
   "execution_count": null,
   "metadata": {},
   "outputs": [],
   "source": [
    "time,flux_fake,quarter,simmf = stellar_init.run_all_steps(injection_flux=flux_fake,qmin=65,qmax=80)"
   ]
  },
  {
   "cell_type": "code",
   "execution_count": null,
   "metadata": {},
   "outputs": [],
   "source": [
    "plot_init.do_plots() #we expect a peak at 17.56 days!"
   ]
  }
 ],
 "metadata": {
  "kernelspec": {
   "display_name": "Python 3 (ipykernel)",
   "language": "python",
   "name": "python3"
  },
  "language_info": {
   "codemirror_mode": {
    "name": "ipython",
    "version": 3
   },
   "file_extension": ".py",
   "mimetype": "text/x-python",
   "name": "python",
   "nbconvert_exporter": "python",
   "pygments_lexer": "ipython3",
   "version": "3.10.5"
  },
  "vscode": {
   "interpreter": {
    "hash": "aee8b7b246df8f9039afb4144a1f6fd8d2ca17a180786b69acc140d282b71a49"
   }
  }
 },
 "nbformat": 4,
 "nbformat_minor": 4
}
